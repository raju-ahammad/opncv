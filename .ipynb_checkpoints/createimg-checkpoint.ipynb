{
 "cells": [
  {
   "cell_type": "code",
   "execution_count": 1,
   "metadata": {},
   "outputs": [],
   "source": [
    "import numpy as np\n",
    "import cv2\n",
    "\n",
    "# create funtion \n",
    "def draw_circle(event,x,y,flags,param):\n",
    "    if event == cv2.EVENT_LBUTTONDOWN:\n",
    "        cv2.circle(img,(x,y),100,(0,255,0),-1)\n",
    "    elif event == cv2.EVENT_RBUTTONDOWN:\n",
    "        cv2.circle(img,(x,y),100,(255,255,0),-1)   \n",
    "\n",
    "cv2.namedWindow(winname='my_img')\n",
    "cv2.setMouseCallback('my_img', draw_circle)\n",
    "\n",
    "\n",
    "# showing img with open cv\n",
    "\n",
    "img = np.zeros(shape=(512,512,3), dtype=np.int8)\n",
    "\n",
    "while True:\n",
    "    cv2.imshow(\"my_img\", img)\n",
    "    \n",
    "    #cv2.waitKey() is a keyboard binding function. Its argument is the time in milliseconds. \n",
    "    if cv2.waitKey(20) & 0xFF==27:\n",
    "        break\n",
    " \n",
    "cv2.destroyAllWindows()\n",
    "\n",
    "# cv2.destroyAllWindows() simply destroys all the windows we created. \n",
    "# If you want to destroy any specific window, use the function cv2.\n",
    "# destroyWindow() where you pass the exact window name as the argument.\n"
   ]
  },
  {
   "cell_type": "code",
   "execution_count": null,
   "metadata": {},
   "outputs": [],
   "source": []
  },
  {
   "cell_type": "code",
   "execution_count": null,
   "metadata": {},
   "outputs": [],
   "source": []
  }
 ],
 "metadata": {
  "kernelspec": {
   "display_name": "Python 3",
   "language": "python",
   "name": "python3"
  },
  "language_info": {
   "codemirror_mode": {
    "name": "ipython",
    "version": 3
   },
   "file_extension": ".py",
   "mimetype": "text/x-python",
   "name": "python",
   "nbconvert_exporter": "python",
   "pygments_lexer": "ipython3",
   "version": "3.7.1"
  }
 },
 "nbformat": 4,
 "nbformat_minor": 2
}
