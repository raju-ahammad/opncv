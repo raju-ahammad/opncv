{
 "cells": [
  {
   "cell_type": "code",
   "execution_count": 2,
   "metadata": {},
   "outputs": [],
   "source": [
    "import cv2\n",
    "import matplotlib.pyplot as plt\n",
    "%matplotlib inline"
   ]
  },
  {
   "cell_type": "code",
   "execution_count": 6,
   "metadata": {},
   "outputs": [],
   "source": [
    "img = cv2.imread('img/tony.jpg')"
   ]
  },
  {
   "cell_type": "code",
   "execution_count": 7,
   "metadata": {},
   "outputs": [
    {
     "data": {
      "text/plain": [
       "array([[[15, 14, 16],\n",
       "        [15, 14, 16],\n",
       "        [15, 14, 16],\n",
       "        ...,\n",
       "        [ 7,  7,  7],\n",
       "        [ 7,  7,  7],\n",
       "        [ 7,  7,  7]],\n",
       "\n",
       "       [[15, 14, 16],\n",
       "        [15, 14, 16],\n",
       "        [15, 14, 16],\n",
       "        ...,\n",
       "        [ 7,  7,  7],\n",
       "        [ 7,  7,  7],\n",
       "        [ 7,  7,  7]],\n",
       "\n",
       "       [[15, 14, 16],\n",
       "        [15, 14, 16],\n",
       "        [16, 15, 17],\n",
       "        ...,\n",
       "        [ 7,  7,  7],\n",
       "        [ 7,  7,  7],\n",
       "        [ 7,  7,  7]],\n",
       "\n",
       "       ...,\n",
       "\n",
       "       [[45, 50, 51],\n",
       "        [45, 50, 51],\n",
       "        [45, 50, 51],\n",
       "        ...,\n",
       "        [45, 52, 49],\n",
       "        [48, 55, 52],\n",
       "        [52, 59, 56]],\n",
       "\n",
       "       [[46, 51, 52],\n",
       "        [46, 51, 52],\n",
       "        [46, 51, 52],\n",
       "        ...,\n",
       "        [45, 52, 49],\n",
       "        [48, 55, 52],\n",
       "        [52, 59, 56]],\n",
       "\n",
       "       [[46, 51, 52],\n",
       "        [46, 51, 52],\n",
       "        [46, 51, 52],\n",
       "        ...,\n",
       "        [45, 52, 49],\n",
       "        [48, 55, 52],\n",
       "        [52, 59, 56]]], dtype=uint8)"
      ]
     },
     "execution_count": 7,
     "metadata": {},
     "output_type": "execute_result"
    }
   ],
   "source": [
    "img"
   ]
  },
  {
   "cell_type": "code",
   "execution_count": 8,
   "metadata": {},
   "outputs": [],
   "source": [
    "img = cv2.cvtColor(img, cv2.COLOR_RGB2HLS)\n",
    "cv2.imshow('Tomy',img)"
   ]
  },
  {
   "cell_type": "code",
   "execution_count": 2,
   "metadata": {},
   "outputs": [],
   "source": [
    "import cv2\n",
    "img = cv2.imread('img/tony.jpg')"
   ]
  },
  {
   "cell_type": "code",
   "execution_count": 3,
   "metadata": {},
   "outputs": [],
   "source": [
    "while True:\n",
    "    cv2.imshow('Tony',img)\n",
    "    if cv2.waitKey(1) & 0xFF=27:\n",
    "        break\n",
    "cv2.destroyAllWindows()"
   ]
  },
  {
   "cell_type": "code",
   "execution_count": null,
   "metadata": {},
   "outputs": [],
   "source": []
  }
 ],
 "metadata": {
  "kernelspec": {
   "display_name": "Python 3",
   "language": "python",
   "name": "python3"
  },
  "language_info": {
   "codemirror_mode": {
    "name": "ipython",
    "version": 3
   },
   "file_extension": ".py",
   "mimetype": "text/x-python",
   "name": "python",
   "nbconvert_exporter": "python",
   "pygments_lexer": "ipython3",
   "version": "3.7.1"
  }
 },
 "nbformat": 4,
 "nbformat_minor": 2
}
