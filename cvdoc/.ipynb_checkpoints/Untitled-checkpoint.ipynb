{
 "cells": [
  {
   "cell_type": "code",
   "execution_count": 1,
   "metadata": {},
   "outputs": [],
   "source": [
    "import cv2\n",
    "import numpy as np"
   ]
  },
  {
   "cell_type": "code",
   "execution_count": 6,
   "metadata": {},
   "outputs": [],
   "source": [
    "img = cv2.imread('img/tony.jpg')\n",
    "img1 = cv2.imread('img/girl.jpeg')"
   ]
  },
  {
   "cell_type": "code",
   "execution_count": 7,
   "metadata": {},
   "outputs": [
    {
     "data": {
      "text/plain": [
       "array([[[210, 212, 213],\n",
       "        [211, 213, 214],\n",
       "        [211, 215, 216],\n",
       "        ...,\n",
       "        [251, 251, 251],\n",
       "        [251, 251, 251],\n",
       "        [251, 251, 251]],\n",
       "\n",
       "       [[210, 212, 213],\n",
       "        [211, 213, 214],\n",
       "        [211, 215, 216],\n",
       "        ...,\n",
       "        [251, 251, 251],\n",
       "        [251, 251, 251],\n",
       "        [251, 251, 251]],\n",
       "\n",
       "       [[209, 211, 212],\n",
       "        [211, 213, 214],\n",
       "        [211, 215, 216],\n",
       "        ...,\n",
       "        [251, 251, 251],\n",
       "        [251, 251, 251],\n",
       "        [251, 251, 251]],\n",
       "\n",
       "       ...,\n",
       "\n",
       "       [[173, 181, 188],\n",
       "        [171, 181, 188],\n",
       "        [171, 182, 190],\n",
       "        ...,\n",
       "        [223, 227, 232],\n",
       "        [222, 226, 231],\n",
       "        [222, 226, 231]],\n",
       "\n",
       "       [[167, 176, 185],\n",
       "        [168, 177, 186],\n",
       "        [169, 179, 189],\n",
       "        ...,\n",
       "        [225, 230, 233],\n",
       "        [223, 228, 231],\n",
       "        [223, 228, 231]],\n",
       "\n",
       "       [[163, 172, 181],\n",
       "        [165, 174, 183],\n",
       "        [167, 177, 187],\n",
       "        ...,\n",
       "        [226, 231, 234],\n",
       "        [223, 228, 231],\n",
       "        [222, 227, 230]]], dtype=uint8)"
      ]
     },
     "execution_count": 7,
     "metadata": {},
     "output_type": "execute_result"
    }
   ],
   "source": [
    "blend = cv2.addWeighted(src1=img, alpha=0.7, src2=img1, beta=0.3, gamma=0)"
   ]
  },
  {
   "cell_type": "code",
   "execution_count": null,
   "metadata": {},
   "outputs": [],
   "source": []
  }
 ],
 "metadata": {
  "kernelspec": {
   "display_name": "Python 3",
   "language": "python",
   "name": "python3"
  },
  "language_info": {
   "codemirror_mode": {
    "name": "ipython",
    "version": 3
   },
   "file_extension": ".py",
   "mimetype": "text/x-python",
   "name": "python",
   "nbconvert_exporter": "python",
   "pygments_lexer": "ipython3",
   "version": "3.7.1"
  }
 },
 "nbformat": 4,
 "nbformat_minor": 2
}
