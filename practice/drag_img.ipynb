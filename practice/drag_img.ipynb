{
 "cells": [
  {
   "cell_type": "code",
   "execution_count": 4,
   "metadata": {},
   "outputs": [],
   "source": [
    "import numpy as np\n",
    "import cv2\n",
    "\n",
    "#variables\n",
    "drawing = True\n",
    "ix = -1\n",
    "iy = -1\n",
    "\n",
    "\n",
    "\n",
    "#function \n",
    "def rectangle(event,x,y,flags,param):\n",
    "    \n",
    "    global ix,iy,drawing\n",
    "    \n",
    "    if event == cv2.EVENT_LBUTTONDOWN:\n",
    "        \n",
    "        drawing = True\n",
    "        ix,iy = x,y\n",
    "    elif event == cv2.EVENT_MOUSEMOVE:\n",
    "        if drawing == True:\n",
    "            cv2.rectangle(img,(ix,iy),(x,y),(0,255,0),-1)\n",
    "            \n",
    "    elif event == cv2.EVENT_LBUTTONUP:\n",
    "        drawing = False\n",
    "        cv2.rectangle(img,(ix,iy),(x,y),(0,255,0),-1)\n",
    "\n",
    "\n",
    "\n",
    "\n",
    "\n",
    "\n",
    "#Showing img\n",
    "\n",
    "img = np.zeros(shape=(512,512,3), dtype=np.int8)\n",
    "cv2.namedWindow(winname='my_img')\n",
    "cv2.setMouseCallback('my_img',rectangle)\n",
    "\n",
    "while True:\n",
    "    cv2.imshow('my_img', img)\n",
    "    \n",
    "    #cheak for esc\n",
    "    if cv2.waitKey(1) & 0xFF==27:\n",
    "        break\n",
    "        \n",
    "cv2.destroyAllWindows()        \n",
    "\n"
   ]
  },
  {
   "cell_type": "code",
   "execution_count": null,
   "metadata": {},
   "outputs": [],
   "source": []
  }
 ],
 "metadata": {
  "kernelspec": {
   "display_name": "Python 3",
   "language": "python",
   "name": "python3"
  },
  "language_info": {
   "codemirror_mode": {
    "name": "ipython",
    "version": 3
   },
   "file_extension": ".py",
   "mimetype": "text/x-python",
   "name": "python",
   "nbconvert_exporter": "python",
   "pygments_lexer": "ipython3",
   "version": "3.7.1"
  }
 },
 "nbformat": 4,
 "nbformat_minor": 2
}
